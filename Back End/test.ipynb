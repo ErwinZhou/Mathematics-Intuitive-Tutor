{
 "cells": [
  {
   "cell_type": "markdown",
   "metadata": {},
   "source": [
    "1. 调整到你的最适合的conda环境\n",
    "```\n",
    "conda activate {your_env_name}\n",
    "pip install openai == 0.28\n",
    "```\n",
    "2. https://platform.openai.com/api-keys\n",
    "   网址中获取到你的OpenAI API Key, st开头的字符串。生成时候复制他，只能复制一次！（这东西要充值，充值网站详见：\n",
    "   https://chatgptboke.com/openai-chatgpt-api-key-purchase.html\n",
    "   或者你们也可以直接用我下面的API Key，我充了值，别用太多。。主要是感受下这个代码，回来可能得让你们写连接这部分"
   ]
  },
  {
   "cell_type": "code",
   "execution_count": 2,
   "metadata": {},
   "outputs": [
    {
     "name": "stdout",
     "output_type": "stream",
     "text": [
      "Why don't scientists trust atoms? \n",
      "\n",
      "Because they make up everything! 😄\n"
     ]
    }
   ],
   "source": [
    "import openai\n",
    "\n",
    "# Set up your OpenAI API key\n",
    "openai.api_key = 'sk-'\n",
    "\n",
    "\n",
    "response = openai.ChatCompletion.create(\n",
    "    model=\"gpt-3.5-turbo\",  # 或 \"gpt-4\"\n",
    "    messages=[\n",
    "        {\"role\": \"system\", \"content\": \"You are a helpful assistant.\"},\n",
    "        {\"role\": \"user\", \"content\": \"Tell me a joke.\"}\n",
    "    ]\n",
    ")\n",
    "\n",
    "print(response.choices[0].message['content'])\n"
   ]
  },
  {
   "cell_type": "code",
   "execution_count": 7,
   "metadata": {},
   "outputs": [
    {
     "name": "stdout",
     "output_type": "stream",
     "text": [
      "D:\\Tools\\FFmpein\n"
     ]
    }
   ],
   "source": []
  },
  {
   "cell_type": "code",
   "execution_count": 8,
   "metadata": {},
   "outputs": [
    {
     "name": "stdout",
     "output_type": "stream",
     "text": [
      "['pillow', 'html']\n"
     ]
    }
   ],
   "source": [
    "import numpy as np\n",
    "import matplotlib.pyplot as plt\n",
    "import matplotlib.animation as animation\n",
    "from moviepy.editor import VideoFileClip, TextClip, concatenate_videoclips\n",
    "\n",
    "import matplotlib\n",
    "print(matplotlib.rcParams['animation.ffmpeg_path'])\n",
    "matplotlib.rcParams['animation.ffmpeg_path'] = 'D:/Tools/FFmpeg/bin/ffmpeg.exe'\n",
    "import matplotlib.animation as animation\n",
    "print(animation.writers.list())\n",
    "\n",
    "from moviepy.config import get_setting\n",
    "print(get_setting('IMAGEMAGICK_BINARY'))\n",
    "\n",
    "from moviepy.config import change_settings\n",
    "change_settings({\"IMAGEMAGICK_BINARY\": r\"D:\\Tools\\ImageMagick\\magick.exe\"})\n",
    "print(get_setting('IMAGEMAGICK_BINARY'))\n",
    "# 设置参数\n",
    "num_samples = 1000\n",
    "sample_size = 30\n",
    "num_bins = 30\n",
    "\n",
    "# 准备绘图\n",
    "fig, ax = plt.subplots()\n",
    "\n",
    "def update_hist(num):\n",
    "    \"\"\" 更新直方图数据 \"\"\"\n",
    "    ax.clear()\n",
    "    samples_means = [np.mean(np.random.uniform(0, 1, sample_size)) for _ in range(num_samples)]\n",
    "    ax.hist(samples_means, bins=num_bins, density=True, alpha=0.75)\n",
    "    ax.set_title(f'样本数量: {num}')\n",
    "    ax.set_xlim(0, 1)\n",
    "    ax.set_ylim(0, 6)\n",
    "    ax.set_xlabel('样本均值')\n",
    "    ax.set_ylabel('频率')\n",
    "\n",
    "# 创建动画\n",
    "ani = animation.FuncAnimation(fig, update_hist, frames=range(1, num_samples + 1, 10), repeat=False)\n",
    "\n",
    "# 保存动画\n",
    "animation_path = 'central_limit_theorem.mp4'\n",
    "ani.save(animation_path, writer='ffmpeg', fps=30)\n",
    "\n",
    "# 描述性文字\n",
    "description = \"\"\"\n",
    "中心极限定理解释\n",
    "\n",
    "中心极限定理是统计学中的一个重要定理，它说明了无论一个总体的分布是什么，当从中抽取样本并计算其均值时，这些样本均值的分布会趋向于正态分布（即钟形曲线），只要样本量足够大。\n",
    "\n",
    "在我们的视频中，展示了从均匀分布中抽取多个样本，并计算这些样本的均值。随着样本数量的增加，这些样本均值的直方图逐渐变得接近正态分布，这验证了中心极限定理。\n",
    "\n",
    "中心极限定理的实际应用非常广泛，它是许多统计推断方法的基础，包括假设检验和置信区间估计等。\n",
    "\"\"\"\n",
    "\n",
    "# 创建文字视频片段\n",
    "text_clip = TextClip(description, fontsize=24, color='white', size=(800, 600), bg_color='black', method='caption')\n",
    "text_clip = text_clip.set_duration(10)  # 设置文字显示时长为10秒\n",
    "\n",
    "# 加载原始视频\n",
    "video_clip = VideoFileClip(animation_path)\n",
    "\n",
    "# 合并文字片段和原始视频\n",
    "final_clip = concatenate_videoclips([text_clip, video_clip])\n",
    "\n",
    "# 保存最终视频\n",
    "final_clip_path = 'central_limit_theorem_with_text.mp4'\n",
    "final_clip.write_videofile(final_clip_path, codec='libx264', fps=30)\n",
    "\n",
    "print(\"最终视频已生成并保存到:\", final_clip_path)"
   ]
  }
 ],
 "metadata": {
  "kernelspec": {
   "display_name": "base",
   "language": "python",
   "name": "python3"
  },
  "language_info": {
   "codemirror_mode": {
    "name": "ipython",
    "version": 3
   },
   "file_extension": ".py",
   "mimetype": "text/x-python",
   "name": "python",
   "nbconvert_exporter": "python",
   "pygments_lexer": "ipython3",
   "version": "3.9.18"
  }
 },
 "nbformat": 4,
 "nbformat_minor": 2
}
