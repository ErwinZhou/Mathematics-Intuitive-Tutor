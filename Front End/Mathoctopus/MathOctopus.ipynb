{
 "cells": [
  {
   "cell_type": "code",
   "execution_count": 3,
   "id": "5d4c1063-a4a7-4db6-a618-55219821e1b6",
   "metadata": {
    "scrolled": true
   },
   "outputs": [
    {
     "name": "stdout",
     "output_type": "stream",
     "text": [
      "Looking in indexes: https://pypi.tuna.tsinghua.edu.cn/simple\n",
      "Requirement already satisfied: tensorflow-datasets in c:\\users\\jialiang\\appdata\\roaming\\python\\python311\\site-packages (4.9.4)\n",
      "Requirement already satisfied: absl-py in c:\\users\\jialiang\\appdata\\roaming\\python\\python311\\site-packages (from tensorflow-datasets) (2.1.0)\n",
      "Requirement already satisfied: click in c:\\users\\jialiang\\.conda\\envs\\py311\\lib\\site-packages (from tensorflow-datasets) (8.1.7)\n",
      "Requirement already satisfied: dm-tree in c:\\users\\jialiang\\appdata\\roaming\\python\\python311\\site-packages (from tensorflow-datasets) (0.1.8)\n",
      "Requirement already satisfied: etils>=0.9.0 in c:\\users\\jialiang\\appdata\\roaming\\python\\python311\\site-packages (from etils[enp,epath,etree]>=0.9.0->tensorflow-datasets) (1.8.0)\n",
      "Requirement already satisfied: numpy in c:\\users\\jialiang\\.conda\\envs\\py311\\lib\\site-packages (from tensorflow-datasets) (1.26.4)\n",
      "Requirement already satisfied: promise in c:\\users\\jialiang\\appdata\\roaming\\python\\python311\\site-packages (from tensorflow-datasets) (2.3)\n",
      "Requirement already satisfied: protobuf>=3.20 in c:\\users\\jialiang\\appdata\\roaming\\python\\python311\\site-packages (from tensorflow-datasets) (4.25.3)\n",
      "Requirement already satisfied: psutil in c:\\users\\jialiang\\.conda\\envs\\py311\\lib\\site-packages (from tensorflow-datasets) (5.9.0)\n",
      "Requirement already satisfied: requests>=2.19.0 in c:\\users\\jialiang\\.conda\\envs\\py311\\lib\\site-packages (from tensorflow-datasets) (2.31.0)\n",
      "Requirement already satisfied: tensorflow-metadata in c:\\users\\jialiang\\appdata\\roaming\\python\\python311\\site-packages (from tensorflow-datasets) (1.15.0)\n",
      "Requirement already satisfied: termcolor in c:\\users\\jialiang\\appdata\\roaming\\python\\python311\\site-packages (from tensorflow-datasets) (2.4.0)\n",
      "Requirement already satisfied: toml in c:\\users\\jialiang\\.conda\\envs\\py311\\lib\\site-packages (from tensorflow-datasets) (0.10.2)\n",
      "Requirement already satisfied: tqdm in c:\\users\\jialiang\\.conda\\envs\\py311\\lib\\site-packages (from tensorflow-datasets) (4.66.4)\n",
      "Requirement already satisfied: wrapt in c:\\users\\jialiang\\.conda\\envs\\py311\\lib\\site-packages (from tensorflow-datasets) (1.16.0)\n",
      "Collecting fsspec (from etils[enp,epath,etree]>=0.9.0->tensorflow-datasets)\n",
      "  Downloading https://pypi.tuna.tsinghua.edu.cn/packages/ba/a3/16e9fe32187e9c8bc7f9b7bcd9728529faa725231a0c96f2f98714ff2fc5/fsspec-2024.5.0-py3-none-any.whl (316 kB)\n",
      "     ---------------------------------------- 0.0/316.1 kB ? eta -:--:--\n",
      "     -------------- ----------------------- 122.9/316.1 kB 2.4 MB/s eta 0:00:01\n",
      "     -------------------------------------- 316.1/316.1 kB 3.9 MB/s eta 0:00:00\n",
      "Requirement already satisfied: importlib_resources in c:\\users\\jialiang\\appdata\\roaming\\python\\python311\\site-packages (from etils[enp,epath,etree]>=0.9.0->tensorflow-datasets) (6.4.0)\n",
      "Requirement already satisfied: typing_extensions in c:\\users\\jialiang\\.conda\\envs\\py311\\lib\\site-packages (from etils[enp,epath,etree]>=0.9.0->tensorflow-datasets) (4.11.0)\n",
      "Collecting zipp (from etils[enp,epath,etree]>=0.9.0->tensorflow-datasets)\n",
      "  Downloading https://pypi.tuna.tsinghua.edu.cn/packages/7f/2d/670176f39d6613af2908b5bc31c9974588208de1fcc4117dfae08623d188/zipp-3.19.0-py3-none-any.whl (8.3 kB)\n",
      "Requirement already satisfied: charset-normalizer<4,>=2 in c:\\users\\jialiang\\.conda\\envs\\py311\\lib\\site-packages (from requests>=2.19.0->tensorflow-datasets) (2.0.4)\n",
      "Requirement already satisfied: idna<4,>=2.5 in c:\\users\\jialiang\\.conda\\envs\\py311\\lib\\site-packages (from requests>=2.19.0->tensorflow-datasets) (3.7)\n",
      "Requirement already satisfied: urllib3<3,>=1.21.1 in c:\\users\\jialiang\\.conda\\envs\\py311\\lib\\site-packages (from requests>=2.19.0->tensorflow-datasets) (2.2.1)\n",
      "Requirement already satisfied: certifi>=2017.4.17 in c:\\users\\jialiang\\.conda\\envs\\py311\\lib\\site-packages (from requests>=2.19.0->tensorflow-datasets) (2024.2.2)\n",
      "Requirement already satisfied: colorama in c:\\users\\jialiang\\.conda\\envs\\py311\\lib\\site-packages (from click->tensorflow-datasets) (0.4.6)\n",
      "Requirement already satisfied: six in c:\\users\\jialiang\\.conda\\envs\\py311\\lib\\site-packages (from promise->tensorflow-datasets) (1.16.0)\n",
      "Requirement already satisfied: googleapis-common-protos<2,>=1.56.4 in c:\\users\\jialiang\\appdata\\roaming\\python\\python311\\site-packages (from tensorflow-metadata->tensorflow-datasets) (1.63.0)\n",
      "Installing collected packages: zipp, fsspec\n",
      "Successfully installed fsspec-2024.5.0 zipp-3.19.0\n",
      "Note: you may need to restart the kernel to use updated packages.\n"
     ]
    }
   ],
   "source": [
    "pip install tensorflow-datasets -i https://pypi.tuna.tsinghua.edu.cn/simple\n"
   ]
  },
  {
   "cell_type": "markdown",
   "id": "2d531787-c77c-4149-a453-74c7eb1bea9a",
   "metadata": {},
   "source": [
    "#### 这里需要提前将MGSM8KInstruct_Parallel下载到当前文件夹中, 并改名为MGSM8KInstructParallel, 否则会报错, 网址为https://huggingface.co/datasets/Mathoctopus/GSM8KInstruct_Parallel/tree/main"
   ]
  },
  {
   "cell_type": "code",
   "execution_count": 1,
   "id": "d2454e6b-7211-47ea-887e-c7e96ca566f8",
   "metadata": {},
   "outputs": [
    {
     "name": "stderr",
     "output_type": "stream",
     "text": [
      "C:\\Users\\Jialiang\\.conda\\envs\\py311\\Lib\\site-packages\\tqdm\\auto.py:21: TqdmWarning: IProgress not found. Please update jupyter and ipywidgets. See https://ipywidgets.readthedocs.io/en/stable/user_install.html\n",
      "  from .autonotebook import tqdm as notebook_tqdm\n"
     ]
    },
    {
     "name": "stdout",
     "output_type": "stream",
     "text": [
      "DatasetDict({\n",
      "    train: Dataset({\n",
      "        features: ['prompt', 'chosen', 'reject'],\n",
      "        num_rows: 73559\n",
      "    })\n",
      "})\n"
     ]
    }
   ],
   "source": [
    "from datasets import load_dataset\n",
    "\n",
    "# 加载本地 JSON 文件\n",
    "dataset = load_dataset('json', data_files='MGSM8KInstructParallel.json')\n",
    "print(dataset)\n"
   ]
  },
  {
   "cell_type": "markdown",
   "id": "f64df6bb-afa0-4abd-8fab-5ef90dee90be",
   "metadata": {},
   "source": [
    "#### 这里需要提前将Parallel_7B下载到当前文件夹中, 需要确保Parrallel_7B的结构完整, 网址为https://huggingface.co/Mathoctopus/Parallel_7B/tree/main"
   ]
  },
  {
   "cell_type": "code",
   "execution_count": null,
   "id": "4adc76ec-6b5e-4ae0-855c-e5cebef8c9c7",
   "metadata": {
    "scrolled": true
   },
   "outputs": [],
   "source": [
    "\n",
    "from transformers import AutoTokenizer, AutoModelForCausalLM, pipeline\n",
    "\n",
    "# 本地模型目录\n",
    "model_directory = \"Parallel_7B\"\n",
    "\n",
    "# 加载本地保存的模型和分词器\n",
    "tokenizer = AutoTokenizer.from_pretrained(model_directory)\n",
    "model = AutoModelForCausalLM.from_pretrained(model_directory)\n",
    "\n",
    "# 创建文本生成管道，指定使用 GPU\n",
    "pipe = pipeline(\"text-generation\", model=model_directory, tokenizer=model_directory, device=0)\n",
    "\n",
    "alpaca_template = \"Below is an instruction that describes a task. Write a response that appropriately completes the request in {lang}. Please answer in {lang}. \\n### Instruction:\\n{query}\\n\\n### Response:\"\n",
    "\n",
    "query = \"Janet's ducks lay 16 eggs per day. She eats three for breakfast every morning and bakes muffins for her friends every day with four. She sells the remainder at the farmers' market daily for $2 per fresh duck egg. How much in dollars does she make every day at the farmers' market?\"\n",
    "\n",
    "\n",
    "\n",
    "### 让 MathOctopus以指定语言输出.\n",
    "language = English\n",
    "\n",
    "input = alpaca_template.format(lang= language, query = query)\n",
    "\n",
    "output = pipeline(input)[0]['generated_text']\n",
    "print(output)\n",
    "\n",
    "#### 改变问题, 改变语法, 即可实现我们需要的功能, 比如让它用中文输出\n",
    "language = Chinese\n",
    "query = \"Assume there is one newborn rabbit. starting from the second month, each rabbit will give birth to a new rabit at the end of every month.How many rabits will there be after four years?\"\n",
    "input = alpaca_template.format(lang= language, query = query)\n",
    "\n",
    "output = pipeline(input)[0]['generated_text']\n",
    "print(output)\n",
    "\n"
   ]
  },
  {
   "cell_type": "code",
   "execution_count": null,
   "id": "48cfd34f-2dd2-46f2-941f-d9c6656a5545",
   "metadata": {},
   "outputs": [],
   "source": []
  }
 ],
 "metadata": {
  "kernelspec": {
   "display_name": "Python 3 (ipykernel)",
   "language": "python",
   "name": "python3"
  },
  "language_info": {
   "codemirror_mode": {
    "name": "ipython",
    "version": 3
   },
   "file_extension": ".py",
   "mimetype": "text/x-python",
   "name": "python",
   "nbconvert_exporter": "python",
   "pygments_lexer": "ipython3",
   "version": "3.11.7"
  }
 },
 "nbformat": 4,
 "nbformat_minor": 5
}
